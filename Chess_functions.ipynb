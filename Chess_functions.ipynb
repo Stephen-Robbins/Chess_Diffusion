{
 "cells": [
  {
   "cell_type": "code",
   "execution_count": 1,
   "metadata": {},
   "outputs": [],
   "source": [
    "import pandas as pd\n",
    "df = pd.read_csv('chessData.csv')"
   ]
  },
  {
   "cell_type": "code",
   "execution_count": 23,
   "metadata": {},
   "outputs": [
    {
     "name": "stdout",
     "output_type": "stream",
     "text": [
      "FEN Notation: rnbqkbnr/pppppppp/8/8/4P3/8/PPPP1PPP/RNBQKBNR b KQkq - 0 1\n",
      "BitBoard: (13, 8, 8)\n",
      "FEN Notation Recovered: rnbqkbnr/pppppppp/8/8/4P3/8/PPPP1PPP/RNBQKBNR w - - 0 1\n"
     ]
    }
   ],
   "source": [
    "import jax\n",
    "import jax.numpy as jnp\n",
    "import chess\n",
    "import chess.svg\n",
    "from IPython.display import SVG\n",
    "jax.config.update(\"jax_enable_x64\", True)\n",
    "\n",
    "def print_chessboard_from_fen(fen):\n",
    "    board = chess.Board(fen + \" w - - 0 1\")  # Append a standard ending for completeness\n",
    "    board_svg = chess.svg.board(board, size=350)\n",
    "    display(SVG(board_svg))\n",
    "\n",
    "\n",
    "def bitboards_to_array(bb: jnp.array) -> jnp.array:\n",
    "    bb = jnp.asarray(bb, dtype=jnp.uint64)[:, jnp.newaxis]\n",
    "    s = 8 * jnp.arange(7, -1, -1, dtype=jnp.uint64)\n",
    "    b = (bb >> s).astype(jnp.uint8)\n",
    "    b = jnp.unpackbits(b, bitorder=\"little\")\n",
    "    return b.reshape(-1, 8, 8)\n",
    "\n",
    "def fen_to_bitboard(fen):\n",
    "    board = chess.Board(fen)\n",
    "    black, white = board.occupied_co\n",
    "\n",
    "    bitboards = jnp.array([\n",
    "        black & board.pawns,\n",
    "        black & board.knights,\n",
    "        black & board.bishops,\n",
    "        black & board.rooks,\n",
    "        black & board.queens,\n",
    "        black & board.kings,\n",
    "        white & board.pawns,\n",
    "        white & board.knights,\n",
    "        white & board.bishops,\n",
    "        white & board.rooks,\n",
    "        white & board.queens,\n",
    "        white & board.kings,\n",
    "       \n",
    "    ], dtype=jnp.uint64)\n",
    "\n",
    "    board_array = bitboards_to_array(bitboards)\n",
    "    # Create the 13th layer for empty spaces\n",
    "    empty_spaces = jnp.ones((8, 8), dtype=jnp.uint8)\n",
    "    for bb in board_array:\n",
    "        empty_spaces = empty_spaces & ~bb\n",
    "\n",
    "    # Add the 13th layer to the board array\n",
    "    board_array = jnp.concatenate((board_array, empty_spaces[jnp.newaxis, :, :]), axis=0)\n",
    "\n",
    "    return jax.device_put(board_array)\n",
    "     \n",
    "\n",
    "def bitboard_to_fen(bitboard):\n",
    "    piece_order = ['p', 'n', 'b', 'r', 'q', 'k', 'P', 'N', 'B', 'R', 'Q', 'K']\n",
    "\n",
    "\n",
    "    board = chess.Board(None)\n",
    "\n",
    "    for i, piece_symbol in enumerate(piece_order):\n",
    "        piece_bitboard = bitboard[i]\n",
    "\n",
    "        for row in range(8):\n",
    "            for col in range(8):\n",
    "                square = chess.square(col, 7 - row)\n",
    "                if piece_bitboard[row, col]:\n",
    "                    piece = chess.Piece.from_symbol(piece_symbol)\n",
    "                    board.set_piece_at(square, piece)\n",
    "\n",
    "    return board.fen()\n",
    "\n",
    "#print out FEN and Tensor:\n",
    "fen_strings = df['FEN'][:1][0]\n",
    "\n",
    "bitboard= fen_to_bitboard(fen_strings)\n",
    "fen=bitboard_to_fen(bitboard)\n",
    "\n",
    "print(\"FEN Notation:\", fen_strings)\n",
    "print(\"BitBoard:\", bitboard.shape) \n",
    "print(\"FEN Notation Recovered:\", fen)\n"
   ]
  },
  {
   "cell_type": "code",
   "execution_count": null,
   "metadata": {},
   "outputs": [],
   "source": []
  }
 ],
 "metadata": {
  "kernelspec": {
   "display_name": "base",
   "language": "python",
   "name": "python3"
  },
  "language_info": {
   "codemirror_mode": {
    "name": "ipython",
    "version": 3
   },
   "file_extension": ".py",
   "mimetype": "text/x-python",
   "name": "python",
   "nbconvert_exporter": "python",
   "pygments_lexer": "ipython3",
   "version": "3.11.4"
  }
 },
 "nbformat": 4,
 "nbformat_minor": 2
}
