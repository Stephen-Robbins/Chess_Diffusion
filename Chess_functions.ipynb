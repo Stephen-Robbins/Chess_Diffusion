{
 "cells": [
  {
   "cell_type": "code",
   "execution_count": 1,
   "metadata": {},
   "outputs": [],
   "source": [
    "import pandas as pd\n",
    "df = pd.read_csv('chessData.csv')"
   ]
  },
  {
   "cell_type": "code",
   "execution_count": 23,
   "metadata": {},
   "outputs": [
    {
     "name": "stdout",
     "output_type": "stream",
     "text": [
      "FEN Notation: rnbqkbnr/pppppppp/8/8/4P3/8/PPPP1PPP/RNBQKBNR b KQkq - 0 1\n",
      "BitBoard: (13, 8, 8)\n",
      "FEN Notation Recovered: rnbqkbnr/pppppppp/8/8/4P3/8/PPPP1PPP/RNBQKBNR w - - 0 1\n"
     ]
    }
   ],
   "source": [
    "import jax\n",
    "import jax.numpy as jnp\n",
    "import chess\n",
    "import chess.svg\n",
    "from IPython.display import SVG\n",
    "jax.config.update(\"jax_enable_x64\", True)\n",
    "\n",
    "def print_chessboard_from_fen(fen):\n",
    "    board = chess.Board(fen + \" w - - 0 1\")  # Append a standard ending for completeness\n",
    "    board_svg = chess.svg.board(board, size=350)\n",
    "    display(SVG(board_svg))\n",
    "\n",
    "\n",
    "def bitboards_to_array(bb: jnp.array) -> jnp.array:\n",
    "    bb = jnp.asarray(bb, dtype=jnp.uint64)[:, jnp.newaxis]\n",
    "    s = 8 * jnp.arange(7, -1, -1, dtype=jnp.uint64)\n",
    "    b = (bb >> s).astype(jnp.uint8)\n",
    "    b = jnp.unpackbits(b, bitorder=\"little\")\n",
    "    return b.reshape(-1, 8, 8)\n",
    "\n",
    "def fen_to_bitboard(fen):\n",
    "    board = chess.Board(fen)\n",
    "    black, white = board.occupied_co\n",
    "\n",
    "    bitboards = jnp.array([\n",
    "        black & board.pawns,\n",
    "        black & board.knights,\n",
    "        black & board.bishops,\n",
    "        black & board.rooks,\n",
    "        black & board.queens,\n",
    "        black & board.kings,\n",
    "        white & board.pawns,\n",
    "        white & board.knights,\n",
    "        white & board.bishops,\n",
    "        white & board.rooks,\n",
    "        white & board.queens,\n",
    "        white & board.kings,\n",
    "       \n",
    "    ], dtype=jnp.uint64)\n",
    "\n",
    "    board_array = bitboards_to_array(bitboards)\n",
    "    # Create the 13th layer for empty spaces\n",
    "    empty_spaces = jnp.ones((8, 8), dtype=jnp.uint8)\n",
    "    for bb in board_array:\n",
    "        empty_spaces = empty_spaces & ~bb\n",
    "\n",
    "    # Add the 13th layer to the board array\n",
    "    board_array = jnp.concatenate((board_array, empty_spaces[jnp.newaxis, :, :]), axis=0)\n",
    "\n",
    "    return jax.device_put(board_array)\n",
    "     \n",
    "\n",
    "def bitboard_to_fen(bitboard):\n",
    "    piece_order = ['p', 'n', 'b', 'r', 'q', 'k', 'P', 'N', 'B', 'R', 'Q', 'K']\n",
    "\n",
    "\n",
    "    board = chess.Board(None)\n",
    "\n",
    "    for i, piece_symbol in enumerate(piece_order):\n",
    "        piece_bitboard = bitboard[i]\n",
    "\n",
    "        for row in range(8):\n",
    "            for col in range(8):\n",
    "                square = chess.square(col, 7 - row)\n",
    "                if piece_bitboard[row, col]:\n",
    "                    piece = chess.Piece.from_symbol(piece_symbol)\n",
    "                    board.set_piece_at(square, piece)\n",
    "\n",
    "    return board.fen()\n",
    "\n",
    "#print out FEN and Tensor:\n",
    "fen_strings = df['FEN'][:1][0]\n",
    "\n",
    "bitboard= fen_to_bitboard(fen_strings)\n",
    "fen=bitboard_to_fen(bitboard)\n",
    "\n",
    "print(\"FEN Notation:\", fen_strings)\n",
    "print(\"BitBoard:\", bitboard.shape) \n",
    "print(\"FEN Notation Recovered:\", fen)\n"
   ]
  },
  {
   "cell_type": "code",
   "execution_count": 34,
   "metadata": {},
   "outputs": [
    {
     "name": "stdout",
     "output_type": "stream",
     "text": [
      "19.0\n"
     ]
    }
   ],
   "source": [
    "import jax\n",
    "import jax.numpy as jnp\n",
    "from jax import lax\n",
    "from jax.scipy.special import gamma\n",
    "\n",
    "\n",
    "def modified_bessel_first_kind_minus_one( x, num_terms=20):\n",
    "    \"\"\"\n",
    "    Compute the Modified Bessel function of the first kind of order -1.\n",
    "\n",
    "    Parameters:\n",
    "    x (float): The point at which to evaluate the function.\n",
    "    num_terms (int): Number of terms to use in the series expansion.\n",
    "\n",
    "    Returns:\n",
    "    float: The value of the Modified Bessel function of the first kind of order -1 at x.\n",
    "    \"\"\"\n",
    "    def term(k, x):\n",
    "        return (x/2)**(2*k - 1) / ( gamma(k+1)**2)\n",
    "\n",
    "    def sum_terms(term_k, k):\n",
    "        return term_k + term(k, x)\n",
    "\n",
    "    return lax.fori_loop(0, num_terms, sum_terms, 0.0)\n",
    "\n",
    "# Test the function with a sample input\n",
    "x_sample = 1.0\n",
    "modified_bessel_first_kind_minus_one_value = modified_bessel_first_kind_minus_one(x_sample)\n",
    "print(modified_bessel_first_kind_minus_one_value)"
   ]
  },
  {
   "cell_type": "code",
   "execution_count": 32,
   "metadata": {},
   "outputs": [
    {
     "data": {
      "text/plain": [
       "Array(inf, dtype=float32, weak_type=True)"
      ]
     },
     "execution_count": 32,
     "metadata": {},
     "output_type": "execute_result"
    }
   ],
   "source": [
    "\n",
    "from jax.scipy.special import gamma\n",
    "gamma()"
   ]
  },
  {
   "cell_type": "code",
   "execution_count": 40,
   "metadata": {},
   "outputs": [
    {
     "data": {
      "text/plain": [
       "(Array(0.98166597, dtype=float32, weak_type=True), 0.9816664285779078, True)"
      ]
     },
     "execution_count": 40,
     "metadata": {},
     "output_type": "execute_result"
    }
   ],
   "source": [
    "import jax.numpy as jnp\n",
    "from jax.scipy.special import  gamma\n",
    "from scipy.special import  iv\n",
    "\n",
    "def modified_bessel_first_kind_minus_one_numpy(x, num_terms=20):\n",
    "    \"\"\"\n",
    "    Compute the Modified Bessel function of the first kind of order -1 using NumPy.\n",
    "\n",
    "    Parameters:\n",
    "    x (float): The point at which to evaluate the function.\n",
    "    num_terms (int): Number of terms to use in the series expansion.\n",
    "\n",
    "    Returns:\n",
    "    float: The value of the Modified Bessel function of the first kind of order -1 at x.\n",
    "    \"\"\"\n",
    "    sum = 0.0\n",
    "    for k in range(num_terms):\n",
    "        \n",
    "        sum += (x/2)**(2*k - 1) / (gamma(k) * gamma(k+1))\n",
    "        \n",
    "       \n",
    "    return sum\n",
    "\n",
    "# Test the function with a sample input and compare it with the scipy implementation\n",
    "x_sample = 1.5\n",
    "modified_bessel_numpy = modified_bessel_first_kind_minus_one_numpy(x_sample)\n",
    "modified_bessel_scipy = iv(-1, x_sample)\n",
    "\n",
    "modified_bessel_numpy, modified_bessel_scipy, np.isclose(modified_bessel_numpy, modified_bessel_scipy)\n"
   ]
  }
 ],
 "metadata": {
  "kernelspec": {
   "display_name": "base",
   "language": "python",
   "name": "python3"
  },
  "language_info": {
   "codemirror_mode": {
    "name": "ipython",
    "version": 3
   },
   "file_extension": ".py",
   "mimetype": "text/x-python",
   "name": "python",
   "nbconvert_exporter": "python",
   "pygments_lexer": "ipython3",
   "version": "3.11.4"
  }
 },
 "nbformat": 4,
 "nbformat_minor": 2
}
