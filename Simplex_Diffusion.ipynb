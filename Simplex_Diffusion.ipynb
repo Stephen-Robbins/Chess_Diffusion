{
 "cells": [
  {
   "cell_type": "code",
   "execution_count": 1,
   "metadata": {},
   "outputs": [],
   "source": [
    "import jax.numpy as jnp\n",
    "from jax.scipy.special import i0  # Modified Bessel function of the first kind\n",
    "\n",
    "def transition_density_cir(theta_t, theta_0,  b, t):\n",
    "    \"\"\"\n",
    "    Compute the transition density for the CIR process using the provided formula.\n",
    "\n",
    "    :param theta_t: The value at time t.\n",
    "    :param theta_0: The initial value of the process.\n",
    "    :param b: The speed of reversion parameter.\n",
    "    :return: The transition density value.\n",
    "    \"\"\"\n",
    "    c=1/(1-jnp.exp(-b*t))\n",
    "    bessel_term = i0(2 * c * jnp.sqrt(theta_0 * theta_t * jnp.exp(-b * t)))\n",
    "    density = c * jnp.exp(-c * (theta_0 * jnp.exp(-b *t) + theta_t))  * bessel_term\n",
    "\n",
    "    return density"
   ]
  },
  {
   "cell_type": "code",
   "execution_count": 10,
   "metadata": {},
   "outputs": [
    {
     "name": "stderr",
     "output_type": "stream",
     "text": [
      "/var/folders/2m/j7q6pjm97vb7vx436d32d30w0000gn/T/ipykernel_65398/3760359000.py:3: UserWarning: Explicitly requested dtype <class 'jax.numpy.float64'>  is not available, and will be truncated to dtype float32. To enable more dtypes, set the jax_enable_x64 configuration option or the JAX_ENABLE_X64 shell environment variable. See https://github.com/google/jax#current-gotchas for more.\n",
      "  return 2.0 * jr.gamma(key, 0.5 * df, shape=shape, dtype=dtype)\n"
     ]
    },
    {
     "data": {
      "text/plain": [
       "Array([0.34041935, 0.42871287, 0.23086777], dtype=float32)"
      ]
     },
     "execution_count": 10,
     "metadata": {},
     "output_type": "execute_result"
    }
   ],
   "source": [
    "import jax.random as jr\n",
    "def _random_chi2(key, df, shape=(), dtype=jnp.float_):\n",
    "    return 2.0 * jr.gamma(key, 0.5 * df, shape=shape, dtype=dtype)\n",
    "\n",
    "def sample_from_ncx2(key, df, nc, sample_shape=()):\n",
    "    \n",
    "    shape = sample_shape + jnp.shape(df) + jnp.shape(nc)\n",
    "\n",
    "    key1, key2, key3 = jr.split(key, 3)\n",
    "\n",
    "    i = jr.poisson(key1, 0.5 * nc, shape=shape)\n",
    "    n = jr.normal(key2, shape=shape) + jnp.sqrt(nc)\n",
    "    cond = jnp.greater(df, 1.0)\n",
    "    chi2 = _random_chi2(key3, jnp.where(cond, df - 1.0, df + 2.0 * i), shape=shape)\n",
    "    return jnp.where(cond, chi2 + n * n, chi2)\n",
    "\n",
    "def sample_CIR(key, theta_0, a, b, t):\n",
    "    exp_bt = jnp.exp(-b * t)\n",
    "    d = 2 * a  # degrees of freedom\n",
    "    mu = 2 * theta_0 * exp_bt / (1 - exp_bt)  # non-centrality parameter\n",
    "\n",
    "    # Sample from the non-central chi-squared distribution\n",
    "    theta_t_sample = sample_from_ncx2(key, df=d, nc=mu)\n",
    "\n",
    "    theta_t = (1 - exp_bt) / 2 * theta_t_sample\n",
    "    return theta_t\n",
    "\n",
    "def sample_dirichlet_from_cir(key, thetas, alphas, b, T):\n",
    "    cir_processes = jnp.zeros((len(alphas)))\n",
    "    keys = jr.split(key, len(alphas))  # Split the key for each dimension\n",
    "\n",
    "    for i, (alpha, k) in enumerate(zip(alphas, keys)):\n",
    "        theta = thetas[i]  # initial value\n",
    "        theta = sample_CIR(k, theta, alpha, b, T)\n",
    "        cir_processes = cir_processes.at[i].set(theta)\n",
    "\n",
    "    cir_final_values = cir_processes\n",
    "    dirichlet_sample = cir_final_values / cir_final_values.sum()\n",
    "\n",
    "    return dirichlet_sample\n",
    "\n",
    "key = jr.PRNGKey(0)  # Initialize a PRNG key\n",
    "\n",
    "thetas = jnp.array([0, 0, 1])\n",
    "alphas = jnp.array([2, 3, 4])\n",
    "b = 1\n",
    "T = 10\n",
    "\n",
    "sample = sample_dirichlet_from_cir(key, thetas, alphas, b, T)\n",
    "sample"
   ]
  },
  {
   "cell_type": "code",
   "execution_count": null,
   "metadata": {},
   "outputs": [],
   "source": [
    "def calculate_dirichlet_statistics(alphas, samples):\n",
    "    \"\"\"\n",
    "    Calculate empirical statistics (mean and variance) for a set of samples from a Dirichlet distribution.\n",
    "\n",
    "    :param alphas: Parameters of the Dirichlet distribution.\n",
    "    :param samples: Samples generated from the Dirichlet distribution.\n",
    "    :return: Empirical mean and variance for each component of the Dirichlet distribution.\n",
    "    \"\"\"\n",
    "    empirical_mean = np.mean(samples, axis=0)\n",
    "    empirical_variance = np.var(samples, axis=0)\n",
    "    return empirical_mean, empirical_variance\n",
    "\n",
    "def theoretical_dirichlet_statistics(alphas):\n",
    "    \"\"\"\n",
    "    Calculate theoretical mean and variance for a Dirichlet distribution.\n",
    "\n",
    "    :param alphas: Parameters of the Dirichlet distribution.\n",
    "    :return: Theoretical mean and variance for each component of the Dirichlet distribution.\n",
    "    \"\"\"\n",
    "    alpha_sum = sum(alphas)\n",
    "    theoretical_mean = [alpha / alpha_sum for alpha in alphas]\n",
    "    theoretical_variance = [(alpha * (alpha_sum - alpha)) / (alpha_sum**2 * (alpha_sum + 1)) for alpha in alphas]\n",
    "    return theoretical_mean, theoretical_variance\n",
    "\n",
    "\n",
    "\n",
    "num_samples = 10000\n",
    "num_steps = 50\n",
    "sample = jnp.array([sample_dirichlet_from_cir(thetas, alphas, b, T) for _ in range(num_samples_reduced)])\n",
    "\n",
    "# Calculate empirical and theoretical statistics for the  sample set\n",
    "empirical_mean_reduced, empirical_variance_reduced = calculate_dirichlet_statistics(alphas, samples_reduced)\n",
    "theoretical_mean, theoretical_variance = theoretical_dirichlet_statistics(alphas)\n",
    "\n",
    "(empirical_mean_reduced, empirical_variance_reduced), (theoretical_mean, theoretical_variance)"
   ]
  }
 ],
 "metadata": {
  "kernelspec": {
   "display_name": "bridge_test",
   "language": "python",
   "name": "python3"
  },
  "language_info": {
   "codemirror_mode": {
    "name": "ipython",
    "version": 3
   },
   "file_extension": ".py",
   "mimetype": "text/x-python",
   "name": "python",
   "nbconvert_exporter": "python",
   "pygments_lexer": "ipython3",
   "version": "3.11.4"
  }
 },
 "nbformat": 4,
 "nbformat_minor": 2
}
